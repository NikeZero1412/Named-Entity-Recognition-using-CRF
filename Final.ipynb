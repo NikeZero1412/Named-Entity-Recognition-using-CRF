{
 "cells": [
  {
   "cell_type": "code",
   "execution_count": 1,
   "metadata": {
    "collapsed": true
   },
   "outputs": [],
   "source": [
    "from __future__ import division\n",
    "import math\n",
    "import os\n",
    "from collections import defaultdict\n",
    "import re\n",
    "import sys\n",
    "import random\n",
    "import itertools\n",
    "from collections import Counter\n",
    "from sklearn.preprocessing import normalize\n",
    "import numpy as np\n",
    "import itertools\n",
    "import math\n",
    "import scipy.misc"
   ]
  },
  {
   "cell_type": "code",
   "execution_count": 1113,
   "metadata": {
    "collapsed": false
   },
   "outputs": [
    {
     "data": {
      "text/plain": [
       "{('END', 'END'): 0.0,\n",
       " ('END', 'Name'): 0.0,\n",
       " ('END', 'O'): 0.0,\n",
       " ('Name', 'END'): 0.17666666666,\n",
       " ('Name', 'Name'): 0.0,\n",
       " ('Name', 'O'): 0.3111111111111111,\n",
       " ('O', 'END'): 0.033333,\n",
       " ('O', 'Name'): 0.3222222222222222,\n",
       " ('O', 'O'): 0.4333333333333333}"
      ]
     },
     "execution_count": 1113,
     "metadata": {},
     "output_type": "execute_result"
    }
   ],
   "source": [
    "# Allowed segmentations for the sentence\n",
    "\n",
    "output_vocab = [\"O\",\"Name\",\"END\"]\n",
    "Max_seglength=3\n",
    "trans_prob = {('Name', 'END'): 0.17666666666,\n",
    " ('Name', 'Name'): 0.0,\n",
    " ('Name', 'O'): 0.3111111111111111,\n",
    " ('O', 'Name'): 0.3222222222222222,\n",
    " ('O', 'O'): 0.4333333333333333,\n",
    " ('O', 'END'): 0.033333,\n",
    " ('END', 'O'): 0.0,\n",
    " ('END', 'Name'): 0.0,\n",
    " ('END', 'END'): 0.0,\n",
    "             }\n",
    "trans_prob"
   ]
  },
  {
   "cell_type": "code",
   "execution_count": 12,
   "metadata": {
    "collapsed": true
   },
   "outputs": [],
   "source": [
    "def indicator(condition):\n",
    "    if condition is True:\n",
    "        return 1\n",
    "    else:\n",
    "        return 0\n",
    "    "
   ]
  },
  {
   "cell_type": "code",
   "execution_count": 581,
   "metadata": {
    "collapsed": false
   },
   "outputs": [
    {
     "data": {
      "text/plain": [
       "1"
      ]
     },
     "execution_count": 581,
     "metadata": {},
     "output_type": "execute_result"
    }
   ],
   "source": [
    "words=\"I went to Blue Heron\".split()\n",
    "words[2:4]\n",
    "\n",
    "def issegcap(words,seg_start,seg_end):\n",
    "    count=0\n",
    "    for word in words[seg_start:seg_end+1]:\n",
    "        count+=indicator(word.istitle())\n",
    "    if count== seg_end-seg_start+1:\n",
    "        return 1\n",
    "    else:\n",
    "        return 0\n",
    "\n",
    "def isseglow(words,seg_start,seg_end):\n",
    "    count=0\n",
    "    for word in words[seg_start:seg_end+1]:\n",
    "        count+=indicator(not word.istitle())\n",
    "    if count== seg_end-seg_start+1:\n",
    "        return 1\n",
    "    else:\n",
    "        return 0\n",
    "    \n",
    "       "
   ]
  },
  {
   "cell_type": "code",
   "execution_count": 1117,
   "metadata": {
    "collapsed": false
   },
   "outputs": [],
   "source": [
    "def features_per_segment(label,prev_label,word,seg_start,seg_end):\n",
    "    feature_vector=np.zeros((13,1))\n",
    "    for j in range(len(feature_vector)):\n",
    "        \n",
    "        ### Feature based on longer segments\n",
    "        \n",
    "        # Capital, Name , prev not name\n",
    "        feature_vector[0][0]= (issegcap(word,seg_start,seg_end)*indicator(seg_end!=seg_start)*indicator(label==\"Name\" and prev_label is not \"Name\"))\n",
    "        \n",
    "        # Capital, Name , prev is also name\n",
    "        feature_vector[1][0]= (issegcap(word,seg_start,seg_end)*indicator(seg_end!=seg_start)*indicator(label==\"Name\" and prev_label==\"Name\"))\n",
    "        # Capital, O\n",
    "        feature_vector[2][0]= issegcap(word,seg_start,seg_end)*indicator(seg_end!=seg_start)*indicator(label is not \"Name\")\n",
    "        # Lower case, O\n",
    "        feature_vector[3][0]= isseglow(word,seg_start,seg_end)*indicator(seg_end!=seg_start)*indicator(label is not \"Name\")\n",
    "        # Lower case, Name\n",
    "        feature_vector[4][0]= isseglow(word,seg_start,seg_end)*indicator(seg_end!=seg_start)*indicator(label== \"Name\")\n",
    "    \n",
    "    \n",
    "        ### Feature based on word lengths if it is labelled Name\n",
    "        \n",
    "        feature_vector[5][0]= indicator(seg_end!=seg_start)*sum([len(word[t]) for t in range(seg_start,seg_end+1)])*issegcap(word,seg_start,seg_end)*indicator(label==\"Name\")\n",
    "        \n",
    "        ### Feature based on 1-length segments\n",
    "        \n",
    "        # Lowercase, Name\n",
    "        \n",
    "        feature_vector[6][0]= indicator(seg_end==seg_start)*indicator(label==\"Name\")*indicator(word[seg_start].islower())\n",
    "        # Capital,Name\n",
    "        feature_vector[7][0]= indicator(seg_end==seg_start)*indicator(label==\"Name\")*indicator(word[seg_start].istitle())\n",
    "        # Capital,O\n",
    "        feature_vector[8][0]= indicator(seg_end==seg_start)*indicator(label is not \"Name\")*indicator(word[seg_start].istitle())\n",
    "        \n",
    "        # Lowercase, O\n",
    "        feature_vector[9][0]= indicator(seg_end==seg_start)*indicator(label is not \"Name\")*indicator(word[seg_start].islower())\n",
    "        \n",
    "        \n",
    "        \n",
    "        # Feature based on lengths of segment\n",
    "        feature_vector[10][0]= indicator(seg_end!=seg_start)*(((seg_end-seg_start+1)-len(word)/3)**2)\n",
    "        \n",
    "        # Feature based on transition probabilities\n",
    "        feature_vector[11][0]= 100*trans_prob[(prev_label,label)]\n",
    "        \n",
    "        # Feature based on lower case words\n",
    "        feature_vector[12][0]= (-10)*(isseglow(words,seg_start,seg_end))*indicator(seg_end!=seg_start)\n",
    "        \n",
    "        \n",
    "\n",
    "        \n",
    "    return feature_vector\n",
    "\n"
   ]
  },
  {
   "cell_type": "code",
   "execution_count": 874,
   "metadata": {
    "collapsed": false
   },
   "outputs": [
    {
     "data": {
      "text/plain": [
       "array([[   8],\n",
       "       [-100],\n",
       "       [   3],\n",
       "       [  15],\n",
       "       [ -60],\n",
       "       [  70],\n",
       "       [   9],\n",
       "       [  -3],\n",
       "       [ -20],\n",
       "       [ -30],\n",
       "       [ -60],\n",
       "       [  60],\n",
       "       [  10]])"
      ]
     },
     "execution_count": 874,
     "metadata": {},
     "output_type": "execute_result"
    }
   ],
   "source": [
    "weights=np.array([[8],[-100],[3],[15],[-60],[70],[9],[-3],[-20],[-30],[-60],[60],[10]])\n",
    "weights"
   ]
  },
  {
   "cell_type": "code",
   "execution_count": 775,
   "metadata": {
    "collapsed": false
   },
   "outputs": [],
   "source": [
    "def feature_potentials(weights,feature_vector):\n",
    "# feature_params, C x n numpy array of feature parameter.\n",
    "# word ,a w x n numpy array of feature vectors,\n",
    "# word= X_test[i]\n",
    "    return (np.dot(np.transpose(weights),feature_vector))\n"
   ]
  },
  {
   "cell_type": "code",
   "execution_count": 1118,
   "metadata": {
    "collapsed": false
   },
   "outputs": [
    {
     "name": "stdout",
     "output_type": "stream",
     "text": [
      "Segmentation 1 [(0, 0, 'O'), (1, 1, 'O'), (2, 2, 'O'), (3, 4, 'Name')] \n",
      "\n",
      "Segmentation 2 [(0, 0, 'O'), (1, 1, 'O'), (2, 2, 'O'), (3, 3, 'Name'), (4, 4, 'Name')] \n",
      "\n",
      "Dot product for S1  [[ 376.88888889]]\n",
      "Dot product for S2  [[ 76.66666667]]\n"
     ]
    }
   ],
   "source": [
    "X1= \"I went to Blue Heron\".split()\n",
    "s1=[(0,0,\"O\"),(1,1,\"O\"),(2,2,\"O\"),(3,4,\"Name\")]\n",
    "s2=[(0,0,\"O\"),(1,1,\"O\"),(2,2,\"O\"),(3,3,\"Name\"),(4,4,\"Name\")]\n",
    "print \"Segmentation 1\" ,s1 ,\"\\n\"\n",
    "print \"Segmentation 2\" ,s2 ,\"\\n\"\n",
    "\n",
    "featpot1= (feature_potentials(weights,features_per_segment(\"Name\",\"O\",X1,3,4)))\n",
    "featpot2= (feature_potentials(weights,features_per_segment(\"Name\",\"O\",X1,3,3)))+ (feature_potentials(weights,features_per_segment(\"Name\",\"Name\",X1,4,4)))\n",
    "\n",
    "print \"Dot product for S1 \" , featpot1\n",
    "print \"Dot product for S2 \", featpot2"
   ]
  },
  {
   "cell_type": "code",
   "execution_count": 1121,
   "metadata": {
    "collapsed": false
   },
   "outputs": [
    {
     "data": {
      "text/plain": [
       "array([[  1.        ],\n",
       "       [  0.        ],\n",
       "       [  0.        ],\n",
       "       [  0.        ],\n",
       "       [  0.        ],\n",
       "       [  9.        ],\n",
       "       [  0.        ],\n",
       "       [  0.        ],\n",
       "       [  0.        ],\n",
       "       [  0.        ],\n",
       "       [  0.11111111],\n",
       "       [ 32.22222222],\n",
       "       [  0.        ]])"
      ]
     },
     "execution_count": 1121,
     "metadata": {},
     "output_type": "execute_result"
    }
   ],
   "source": [
    "features_per_segment(\"Name\",\"O\",X1,3,4)"
   ]
  },
  {
   "cell_type": "code",
   "execution_count": 1120,
   "metadata": {
    "collapsed": false
   },
   "outputs": [
    {
     "data": {
      "text/plain": [
       "array([[  1.        ],\n",
       "       [  0.        ],\n",
       "       [  0.        ],\n",
       "       [  0.        ],\n",
       "       [  0.        ],\n",
       "       [  9.        ],\n",
       "       [  0.        ],\n",
       "       [  0.        ],\n",
       "       [  0.        ],\n",
       "       [  0.        ],\n",
       "       [  0.11111111],\n",
       "       [ 32.22222222],\n",
       "       [  0.        ]])"
      ]
     },
     "execution_count": 1120,
     "metadata": {},
     "output_type": "execute_result"
    }
   ],
   "source": [
    "features_per_segment(\"Name\",\"O\",X1,3,4)"
   ]
  },
  {
   "cell_type": "code",
   "execution_count": 1119,
   "metadata": {
    "collapsed": false
   },
   "outputs": [
    {
     "data": {
      "text/plain": [
       "array([[ 0.],\n",
       "       [ 0.],\n",
       "       [ 0.],\n",
       "       [ 0.],\n",
       "       [ 0.],\n",
       "       [ 0.],\n",
       "       [ 0.],\n",
       "       [ 1.],\n",
       "       [ 0.],\n",
       "       [ 0.],\n",
       "       [ 0.],\n",
       "       [ 0.],\n",
       "       [ 0.]])"
      ]
     },
     "execution_count": 1119,
     "metadata": {},
     "output_type": "execute_result"
    }
   ],
   "source": [
    "features_per_segment(\"Name\",\"END\",X1,4,4)"
   ]
  },
  {
   "cell_type": "code",
   "execution_count": 79,
   "metadata": {
    "collapsed": true
   },
   "outputs": [],
   "source": [
    "def dict_argmax(dct):\n",
    "    \"\"\"Return the key whose value is largest. In other words: argmax_k dct[k].\n",
    "    Behavior undefined if ties (python docs might give clues)\"\"\"\n",
    "    return max(dct.iterkeys(), key=lambda k: dct[k])"
   ]
  },
  {
   "cell_type": "code",
   "execution_count": 1036,
   "metadata": {
    "collapsed": false
   },
   "outputs": [],
   "source": [
    "def viterbidict(X, output_vocab):\n",
    "\n",
    "\n",
    "    N = len(X)   # length of input sentence\n",
    "    # viterbi log-prob tables\n",
    "    V = [{tag:None for tag in output_vocab } for t in range(N)]\n",
    "    # backpointer tables\n",
    "    # back[0] could be left empty. it will never be used.\n",
    "    back = [{tag:None for tag in output_vocab } for t in range(N)]\n",
    "    # Storing back pointers\n",
    "    backprop=[{tag:{t:None for t in range(1,N+1)} for tag in output_vocab} for t in range(N)]             \n",
    "    \n",
    "    for i in range(N):\n",
    "        for y in output_vocab:\n",
    "            viterbi_list=[]\n",
    "            for ybar in output_vocab:\n",
    "                for d in range(1,N+1):\n",
    "                    # Handling i=0 case\n",
    "                    if i<0:\n",
    "                        viterbi_list.append(-float(\"inf\"))\n",
    "                        V[i][y]= max(viterbi_list)\n",
    "                    # Handling i=0 case\n",
    "                    if i ==0:\n",
    "                        viterbi_list.append(0)\n",
    "                        V[i][y]= max(viterbi_list)\n",
    "                        #back[t][k]=0 ## Initializing to zero, even though it isn't used.\n",
    "                    if i-d <0:\n",
    "                        viterbi_list.append(-float(\"inf\"))\n",
    "                        V[i-d][y]= max(viterbi_list)\n",
    "                    else:\n",
    "                        pot=(feature_potentials(weights,features_per_segment(y,ybar,X,i-d,i))[0][0])\n",
    "                        viterbi_list.append(V[i-d][ybar]+pot )\n",
    "                        backprop[i][ybar][d]=(V[i-d][ybar])\n",
    "                        V[i][y]= max(viterbi_list)\n",
    "\n",
    "                back[i][y]=dict_argmax(backprop[i][y])\n",
    "    print V,\"\\n \\n\"\n",
    "    print back,\"\\n \\n\"\n",
    "    print backprop,\"\\n \\n\"\n",
    "                        \n",
    "\n",
    "    return V,back,backprop"
   ]
  },
  {
   "cell_type": "code",
   "execution_count": 1045,
   "metadata": {
    "collapsed": true
   },
   "outputs": [],
   "source": [
    "def viterbi(X, output_vocab):\n",
    "\n",
    "    N = len(X)   # length of input sentence\n",
    "    # viterbi trellis        \n",
    "    V = np.zeros((N+1,len(output_vocab)),dtype=float) \n",
    "    # back trace for tag\n",
    "    BackTag = np.zeros((N+1,len(output_vocab)),dtype=int) \n",
    "    # back trace for segment lengths\n",
    "    SegLen = np.zeros((N+1,len(output_vocab)),dtype=int) \n",
    "    for i in range(1,N+1):\n",
    "        for y in range(len(output_vocab)):\n",
    "            maxx = -sys.maxint    # or -float(\"inf\")\n",
    "            argmax_y = 0\n",
    "            argmax_d = 0\n",
    "            for ybar in range(len(output_vocab)):\n",
    "                for d in range(1,4):\n",
    "                    if i>=d:\n",
    "                        pot= (feature_potentials(weights,features_per_segment(output_vocab[y],output_vocab[ybar],X,i-d,i-1))[0][0])\n",
    "                        val = V[i-d,ybar] + pot\n",
    "                        \n",
    "                        if val>maxx:\n",
    "                            maxx =val\n",
    "                            argmax_d = d\n",
    "                            argmax_y = ybar\n",
    "            V[i,y] = maxx\n",
    "            BackTag[i,y] = argmax_y\n",
    "            SegLen[i,y] = argmax_d\n",
    "    return V,BackTag,SegLen\n",
    "    \n",
    "    "
   ]
  },
  {
   "cell_type": "code",
   "execution_count": 1105,
   "metadata": {
    "collapsed": false
   },
   "outputs": [],
   "source": [
    "def segmentdict(V,back):\n",
    "    labels=[]\n",
    "    lengths=[]\n",
    "    for i in range(len(V)-1,-1,-1):\n",
    "        if max(V[i].values()) is not 0:\n",
    "            tag=dict_argmax(V[i])\n",
    "            seg=back[i][tag]\n",
    "            labels.append(tag)\n",
    "            lengths.append(seg)\n",
    "    labels=labels[::-1]\n",
    "    lengths=lengths[::-1]\n",
    "    segments=[]\n",
    "\n",
    "    for j in range(len(labels)):\n",
    "        segments.append((j , j+lengths[j]-1,labels[j] ))\n",
    "    return segments\n",
    "\n",
    "def segmentation(X,V,BackTag,SegLen):\n",
    "    N=len(X)\n",
    "    last_tag  = np.argmax(V[N])\n",
    "    segmentation = []\n",
    "    d=N\n",
    "    while (d>0):\n",
    "        next_tag=BackTag[d,last_tag]\n",
    "        dnext=SegLen[d,last_tag]\n",
    "        print  X[d-dnext:d], \" is :\",output_vocab[last_tag]\n",
    "        segmentation.append((BackTag[d,last_tag],SegLen[d,last_tag]))\n",
    "        last_tag=next_tag\n",
    "        d=d-dnext"
   ]
  },
  {
   "cell_type": "code",
   "execution_count": 1108,
   "metadata": {
    "collapsed": false
   },
   "outputs": [
    {
     "data": {
      "text/plain": [
       "array([[ 10],\n",
       "       [-20],\n",
       "       [-14],\n",
       "       [ -6],\n",
       "       [ -7],\n",
       "       [ 30],\n",
       "       [-20],\n",
       "       [-10],\n",
       "       [-17],\n",
       "       [ 90],\n",
       "       [  2],\n",
       "       [  3],\n",
       "       [ -4]])"
      ]
     },
     "execution_count": 1108,
     "metadata": {},
     "output_type": "execute_result"
    }
   ],
   "source": [
    "weights=np.array([[10],[-20],[-14],[-6],[-7],[30],[-20],[-10],[-17],[90],[2],[3],[-4]])\n",
    "weights"
   ]
  },
  {
   "cell_type": "code",
   "execution_count": 1106,
   "metadata": {
    "collapsed": false
   },
   "outputs": [
    {
     "name": "stdout",
     "output_type": "stream",
     "text": [
      "['Blue', 'Heron']  is : Name\n",
      "['To']  is : O\n",
      "['went']  is : O\n",
      "['I']  is : O\n",
      "\n",
      "\n",
      "['British', 'Columbia']  is : Name\n",
      "['in']  is : O\n",
      "['Fernando', 'Pereira']  is : Name\n",
      "['with']  is : O\n",
      "['skiing']  is : O\n",
      "['went']  is : O\n",
      "['I']  is : O\n",
      "\n",
      "\n",
      "['It', 'Working']  is : Name\n",
      "['get']  is : O\n",
      "['To']  is : O\n",
      "['managed']  is : O\n",
      "['I']  is : O\n",
      "['but']  is : O\n",
      "['Extremely', 'Tough']  is : Name\n",
      "['was']  is : O\n",
      "['assignment']  is : O\n",
      "['This']  is : O\n"
     ]
    }
   ],
   "source": [
    "\n",
    "X1=\"I went To Blue Heron \".split()\n",
    "X2=\"I went skiing with Fernando Pereira in British Columbia\".split()\n",
    "X3= \"This assignment was Extremely Tough but I managed To get It Working\".split()\n",
    "V1,backtag1,seglen1= viterbi(X1, output_vocab)\n",
    "segmentation(X1,V1,backtag1,seglen1)\n",
    "print \"\\n\"\n",
    "V2,backtag2,seglen2= viterbi(X2, output_vocab)\n",
    "segmentation(X2,V2,backtag2,seglen2)\n",
    "print \"\\n\"\n",
    "V3,backtag3,seglen3= viterbi(X3, output_vocab)\n",
    "segmentation(X3,V3,backtag3,seglen3)"
   ]
  }
 ],
 "metadata": {
  "kernelspec": {
   "display_name": "Python [conda root]",
   "language": "python",
   "name": "conda-root-py"
  },
  "language_info": {
   "codemirror_mode": {
    "name": "ipython",
    "version": 2
   },
   "file_extension": ".py",
   "mimetype": "text/x-python",
   "name": "python",
   "nbconvert_exporter": "python",
   "pygments_lexer": "ipython2",
   "version": "2.7.12"
  }
 },
 "nbformat": 4,
 "nbformat_minor": 2
}
